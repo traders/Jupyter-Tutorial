{
 "cells": [
  {
   "cell_type": "markdown",
   "id": "7df275d7",
   "metadata": {},
   "source": [
    "# Setup and Load Data"
   ]
  },
  {
   "cell_type": "code",
   "execution_count": null,
   "id": "0001d694",
   "metadata": {},
   "outputs": [],
   "source": [
    "import pandas as pd\n",
    "import numpy as np\n",
    "import matplotlib.pyplot as plt\n",
    "\n",
    "import statsmodels.api as sm\n",
    "import seaborn as sns\n",
    "\n",
    "pd.set_option('display.max_rows', 300)\n",
    "pd.set_option('display.max_columns', 30)"
   ]
  },
  {
   "cell_type": "code",
   "execution_count": null,
   "id": "a736ffb2",
   "metadata": {},
   "outputs": [],
   "source": [
    "# https://www.kaggle.com/datasets/kabhishm/global-spotify-weekly-chart?resource=download\n",
    "df = pd.read_csv(\"spotify_weekly_chart.csv\")"
   ]
  },
  {
   "cell_type": "markdown",
   "id": "c83ce2d0",
   "metadata": {},
   "source": [
    "# Data Inspection"
   ]
  },
  {
   "cell_type": "code",
   "execution_count": null,
   "id": "fd487853",
   "metadata": {},
   "outputs": [],
   "source": [
    "# check out first 10 rows\n",
    "df.head(10)"
   ]
  },
  {
   "cell_type": "code",
   "execution_count": null,
   "id": "e1d31682",
   "metadata": {},
   "outputs": [],
   "source": [
    "# get dimensions\n",
    "df.shape"
   ]
  },
  {
   "cell_type": "code",
   "execution_count": null,
   "id": "f7bad0fb",
   "metadata": {},
   "outputs": [],
   "source": [
    "# number of entries\n",
    "df.size"
   ]
  },
  {
   "cell_type": "code",
   "execution_count": null,
   "id": "2b161383",
   "metadata": {},
   "outputs": [],
   "source": [
    "# summarize values\n",
    "df.describe()"
   ]
  },
  {
   "cell_type": "code",
   "execution_count": null,
   "id": "618fcd47",
   "metadata": {},
   "outputs": [],
   "source": [
    "# detailed summary\n",
    "df.info()"
   ]
  },
  {
   "cell_type": "code",
   "execution_count": null,
   "id": "cb2a59d6",
   "metadata": {},
   "outputs": [],
   "source": [
    "# check for any missing values\n",
    "df.isna().sum()"
   ]
  },
  {
   "cell_type": "code",
   "execution_count": null,
   "id": "d96a8149",
   "metadata": {},
   "outputs": [],
   "source": [
    "# fill in missing values with something sensible\n",
    "df['(x?)'] = df['(x?)'].fillna('(x0)')"
   ]
  },
  {
   "cell_type": "code",
   "execution_count": null,
   "id": "16a115f0",
   "metadata": {},
   "outputs": [],
   "source": [
    "print(df.index)\n",
    "print(df.columns)"
   ]
  },
  {
   "cell_type": "markdown",
   "id": "be7a17a3",
   "metadata": {},
   "source": [
    "# Common Functions"
   ]
  },
  {
   "cell_type": "markdown",
   "id": "9d09684b",
   "metadata": {},
   "source": [
    "## Indexing"
   ]
  },
  {
   "cell_type": "code",
   "execution_count": null,
   "id": "8efb695a",
   "metadata": {},
   "outputs": [],
   "source": [
    "df.head()"
   ]
  },
  {
   "cell_type": "code",
   "execution_count": null,
   "id": "a9d2c444",
   "metadata": {},
   "outputs": [],
   "source": [
    "df = df.set_index('Pos')"
   ]
  },
  {
   "cell_type": "code",
   "execution_count": null,
   "id": "b210bd3f",
   "metadata": {},
   "outputs": [],
   "source": [
    "df.index"
   ]
  },
  {
   "cell_type": "markdown",
   "id": "45c4a853",
   "metadata": {},
   "source": [
    "## Element Access"
   ]
  },
  {
   "cell_type": "code",
   "execution_count": null,
   "id": "dc9e9744",
   "metadata": {},
   "outputs": [],
   "source": [
    "# get a specific column, output is a series\n",
    "df[\"Title\"]"
   ]
  },
  {
   "cell_type": "code",
   "execution_count": null,
   "id": "2c6ffba1",
   "metadata": {},
   "outputs": [],
   "source": [
    "# get several specific columns\n",
    "df[['Artist', 'Title', 'Streams']]\n",
    "\n",
    "# df['Artist', 'Title']          # this is an error, tries to find a column named with the tuple ('Artist', 'Title')"
   ]
  },
  {
   "cell_type": "code",
   "execution_count": null,
   "id": "e3c31831",
   "metadata": {},
   "outputs": [],
   "source": [
    "# find all songs that peaked in the top 3\n",
    "df[df['Pk'] < 3]"
   ]
  },
  {
   "cell_type": "code",
   "execution_count": null,
   "id": "26aedc46",
   "metadata": {},
   "outputs": [],
   "source": [
    "# access values by index and column label\n",
    "df.loc[150, 'Title']"
   ]
  },
  {
   "cell_type": "code",
   "execution_count": null,
   "id": "90915738",
   "metadata": {},
   "outputs": [],
   "source": [
    "# access entire data row by index\n",
    "df.loc[150]"
   ]
  },
  {
   "cell_type": "code",
   "execution_count": null,
   "id": "de9159e5",
   "metadata": {},
   "outputs": [],
   "source": [
    "# access entire column by column label\n",
    "df.loc[:, 'Title']"
   ]
  },
  {
   "cell_type": "code",
   "execution_count": null,
   "id": "b630708e",
   "metadata": {},
   "outputs": [],
   "source": [
    "# Do the same things but just by row number and column number\n",
    "df.iloc[100, 2]"
   ]
  },
  {
   "cell_type": "markdown",
   "id": "dca4a8f4",
   "metadata": {},
   "source": [
    "# Sorting and value counts"
   ]
  },
  {
   "cell_type": "code",
   "execution_count": null,
   "id": "99a8ef97",
   "metadata": {},
   "outputs": [],
   "source": [
    "# sort rows by the most number of weeks on the charts, ties broken by peak\n",
    "df.sort_values(by=[\"Wks\", \"Pk\"], axis=0, ascending=False)"
   ]
  },
  {
   "cell_type": "code",
   "execution_count": null,
   "id": "36fe39e6",
   "metadata": {},
   "outputs": [],
   "source": [
    "df['Artist'].value_counts()"
   ]
  },
  {
   "cell_type": "markdown",
   "id": "7db7d81b",
   "metadata": {},
   "source": [
    "## Aggregations\n",
    "\n",
    "Don't compute these statistics \"manually\" using for loops.\n",
    "The library functions are vectorized and will run faster."
   ]
  },
  {
   "cell_type": "code",
   "execution_count": null,
   "id": "607d8bad",
   "metadata": {},
   "outputs": [],
   "source": [
    "df['Streams'].mean()"
   ]
  },
  {
   "cell_type": "code",
   "execution_count": null,
   "id": "c9a6be55",
   "metadata": {},
   "outputs": [],
   "source": [
    "df['Streams'].median()"
   ]
  },
  {
   "cell_type": "code",
   "execution_count": null,
   "id": "7954e12f",
   "metadata": {},
   "outputs": [],
   "source": [
    "df['Streams'].max()"
   ]
  },
  {
   "cell_type": "code",
   "execution_count": null,
   "id": "d272c8ff",
   "metadata": {},
   "outputs": [],
   "source": [
    "# standard deviation\n",
    "df['Streams'].std()"
   ]
  },
  {
   "cell_type": "markdown",
   "id": "393aa270",
   "metadata": {},
   "source": [
    "# Examples\n"
   ]
  },
  {
   "cell_type": "markdown",
   "id": "64d0747b",
   "metadata": {},
   "source": [
    "Task: Find the artists with most appearances on the list and sort the dataset in decreasing order of number of appearances"
   ]
  },
  {
   "cell_type": "code",
   "execution_count": null,
   "id": "58de73f5",
   "metadata": {},
   "outputs": [],
   "source": [
    "most_app_idx = df['Artist'].value_counts().index"
   ]
  },
  {
   "cell_type": "code",
   "execution_count": null,
   "id": "d8f7c432",
   "metadata": {},
   "outputs": [],
   "source": [
    "l = [False] * (df.shape[0] - 1) + [True]"
   ]
  },
  {
   "cell_type": "code",
   "execution_count": null,
   "id": "4d11228f",
   "metadata": {},
   "outputs": [],
   "source": [
    "df.reset_index().set_index('Artist').loc[most_app_idx]"
   ]
  },
  {
   "cell_type": "markdown",
   "id": "5d000212",
   "metadata": {},
   "source": [
    "Task: Convert the (x?) column into integers"
   ]
  },
  {
   "cell_type": "code",
   "execution_count": null,
   "id": "45179e2d",
   "metadata": {},
   "outputs": [],
   "source": [
    "df.dtypes"
   ]
  },
  {
   "cell_type": "code",
   "execution_count": null,
   "id": "ebf571d3",
   "metadata": {},
   "outputs": [],
   "source": [
    "df['(x?)'] = df['(x?)'].apply(lambda s : s[2:-1])"
   ]
  },
  {
   "cell_type": "code",
   "execution_count": null,
   "id": "ae7c8fe3",
   "metadata": {},
   "outputs": [],
   "source": [
    "df['(x?)'] = df['(x?)'].astype('int64')"
   ]
  },
  {
   "cell_type": "code",
   "execution_count": null,
   "id": "fdebfcec",
   "metadata": {},
   "outputs": [],
   "source": [
    "df.dtypes"
   ]
  },
  {
   "cell_type": "code",
   "execution_count": null,
   "id": "68698658",
   "metadata": {},
   "outputs": [],
   "source": [
    "df.head()"
   ]
  },
  {
   "cell_type": "markdown",
   "id": "84c87ae3",
   "metadata": {},
   "source": [
    "# Visualization"
   ]
  },
  {
   "cell_type": "code",
   "execution_count": null,
   "id": "688a8a13",
   "metadata": {},
   "outputs": [],
   "source": [
    "plt.figure(figsize=(16,8))\n",
    "\n",
    "\n",
    "plt.scatter(df.index, 1 / df['Streams'])\n",
    "plt.title(\"Inverse of # Streams vs. Position\")\n",
    "plt.xlabel(\"Position\")\n",
    "plt.ylabel(\"Inverse of # Streams\")"
   ]
  },
  {
   "cell_type": "code",
   "execution_count": null,
   "id": "7482e19c",
   "metadata": {},
   "outputs": [],
   "source": [
    "plt.figure(figsize=(16,8))\n",
    "\n",
    "plt.hist(df[\"Wks\"], bins=20)\n",
    "\n",
    "plt.title(\"Distribution of # of Weeks on Charts\")\n",
    "plt.xlabel(\"# of Weeks\")\n",
    "plt.ylabel(\"Count\")"
   ]
  },
  {
   "cell_type": "code",
   "execution_count": null,
   "id": "2f4c94e6",
   "metadata": {},
   "outputs": [],
   "source": [
    "# https://www.kaggle.com/datasets/achintyatripathi/yahoo-finance-apple-inc-aapl?select=AAPL_daily_update.csv\n",
    "aapl_df = pd.read_csv(\"AAPL_daily_update.csv\")"
   ]
  },
  {
   "cell_type": "code",
   "execution_count": null,
   "id": "e71d9063",
   "metadata": {},
   "outputs": [],
   "source": [
    "aapl_df.head()"
   ]
  },
  {
   "cell_type": "code",
   "execution_count": null,
   "id": "62f1157d",
   "metadata": {},
   "outputs": [],
   "source": [
    "plt.figure(figsize=(16,8))\n",
    "\n",
    "plt.plot(aapl_df.Date, (aapl_df.Open + aapl_df.Close) / 2, color=\"green\", alpha=0.5)\n",
    "\n",
    "plt.title(\"AAPL Price over Time\")\n",
    "plt.xlabel(\"Date\")\n",
    "plt.ylabel(\"Average Price (avg of open and close)\")\n",
    "\n",
    "# make x tick labels vertical\n",
    "plt.xticks(rotation=90)\n",
    "\n",
    "# don't show every date on x-axis\n",
    "ax = plt.gca()\n",
    "\n",
    "every_nth = 10\n",
    "for n, label in enumerate(ax.xaxis.get_ticklabels()):\n",
    "    if n % every_nth != 0:\n",
    "        label.set_visible(False)\n",
    "\n"
   ]
  },
  {
   "cell_type": "markdown",
   "id": "f442c3b0",
   "metadata": {},
   "source": [
    "# Modeling"
   ]
  },
  {
   "cell_type": "code",
   "execution_count": null,
   "id": "d27466f9",
   "metadata": {},
   "outputs": [],
   "source": [
    "df.head()"
   ]
  },
  {
   "cell_type": "markdown",
   "id": "37c02842",
   "metadata": {},
   "source": [
    "Hypothesis: # Wks spent on charts is positively correlated to total streams"
   ]
  },
  {
   "cell_type": "code",
   "execution_count": null,
   "id": "092be796",
   "metadata": {},
   "outputs": [],
   "source": [
    "plt.figure(figsize=(16,8))\n",
    "\n",
    "plt.scatter(df.Wks, df.Total)"
   ]
  },
  {
   "cell_type": "code",
   "execution_count": null,
   "id": "76768f4f",
   "metadata": {},
   "outputs": [],
   "source": [
    "regression_df = df[df.Wks > 10]"
   ]
  },
  {
   "cell_type": "code",
   "execution_count": null,
   "id": "e5bef52c",
   "metadata": {},
   "outputs": [],
   "source": [
    "regression_df.shape"
   ]
  },
  {
   "cell_type": "code",
   "execution_count": null,
   "id": "4caa972e",
   "metadata": {},
   "outputs": [],
   "source": [
    "# sm.OLS(y, X)\n",
    "# there is no intercept term by default\n",
    "model = sm.OLS(regression_df.Total, regression_df.Wks)\n",
    "\n",
    "result = model.fit()\n",
    "\n",
    "result.summary()"
   ]
  },
  {
   "cell_type": "code",
   "execution_count": null,
   "id": "96278734",
   "metadata": {},
   "outputs": [],
   "source": [
    "plt.figure(figsize=(16,8))\n",
    "\n",
    "# unfortunately this has intercept, and no easy way to adjust this\n",
    "sns.regplot(data=regression_df, x=\"Wks\", y=\"Total\", fit_reg=True)"
   ]
  },
  {
   "attachments": {},
   "cell_type": "markdown",
   "id": "f442c3b0",
   "metadata": {},
   "source": [
    "# Exercises"
   ]
  },
  {
   "cell_type": "code",
   "execution_count": null,
   "id": "229d77dd",
   "metadata": {},
   "outputs": [],
   "source": [
    "# loading iris dataset\n",
    "from sklearn import datasets\n",
    "\n",
    "iris = datasets.load_iris()\n",
    "print(iris[\"data\"][0:10, :], iris[\"target\"], iris[\"feature_names\"])\n",
    "\n",
    "targets = np.reshape(iris[\"target\"], newshape=(len(iris[\"data\"]), 1))\n",
    "new_data = np.concatenate((iris[\"data\"], targets), axis=1)\n",
    "iris = pd.DataFrame(data=new_data, columns=iris[\"feature_names\"] + [\"target\"])\n",
    "print(iris)"
   ]
  },
  {
   "cell_type": "code",
   "execution_count": null,
   "id": "4f51fa17",
   "metadata": {},
   "outputs": [],
   "source": [
    "# Exercise 1:\n",
    "# Use some one line functions to answer these questions:\n",
    "# How big is the dataset?\n",
    "# What information is in the dataset?\n",
    "# How do we extract columns from the dataset?\n",
    "# Output the first few enries of the dataset. Print the last few entries of the dataset.\n"
   ]
  },
  {
   "cell_type": "code",
   "execution_count": null,
   "id": "492ed1c7",
   "metadata": {},
   "outputs": [],
   "source": [
    "# Exercise 2:\n",
    "# Output 5 flowers with the largest sepal width (cm)"
   ]
  },
  {
   "cell_type": "code",
   "execution_count": null,
   "id": "654c8990",
   "metadata": {},
   "outputs": [],
   "source": [
    "# Exercise 3:\n",
    "# Create a new column named sepal ratio: which is the ratio sepal width / sepal length\n",
    "# Do the same for petal ratio"
   ]
  },
  {
   "cell_type": "code",
   "execution_count": null,
   "id": "a38ef50f",
   "metadata": {},
   "outputs": [],
   "source": [
    "# Exercise 4:\n",
    "# Graph petal ratio vs sepal ratio"
   ]
  }
 ],
 "metadata": {
  "kernelspec": {
   "display_name": "Python 3",
   "language": "python",
   "name": "python3"
  },
  "language_info": {
   "codemirror_mode": {
    "name": "ipython",
    "version": 3
   },
   "file_extension": ".py",
   "mimetype": "text/x-python",
   "name": "python",
   "nbconvert_exporter": "python",
   "pygments_lexer": "ipython3",
   "version": "3.9.7 (v3.9.7:1016ef3790, Aug 30 2021, 16:39:15) \n[Clang 6.0 (clang-600.0.57)]"
  },
  "vscode": {
   "interpreter": {
    "hash": "aee8b7b246df8f9039afb4144a1f6fd8d2ca17a180786b69acc140d282b71a49"
   }
  }
 },
 "nbformat": 4,
 "nbformat_minor": 5
}
